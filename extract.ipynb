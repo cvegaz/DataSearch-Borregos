{
 "cells": [
  {
   "cell_type": "code",
   "execution_count": 1,
   "metadata": {},
   "outputs": [
    {
     "name": "stdout",
     "output_type": "stream",
     "text": [
      "   Matrícula                        Name Pos      Fecha  Peso  Estatura  \\\n",
      "0  A01367061      Adrian Briseño Ramones  CB 2024-03-21   NaN       NaN   \n",
      "1  A01749027  Brandon Omar Rocha Cabrera  CB 2024-03-21   NaN       NaN   \n",
      "2  A01795311   Emmanuel Gallegos Montiel  CB 2024-03-21   NaN       NaN   \n",
      "3  A01658336   Gabriel Encalada Gallardo  CB 2024-03-21   NaN       NaN   \n",
      "4  A01659588            Jorge Luna Rueda  CB 2024-03-21   NaN       NaN   \n",
      "\n",
      "   10 yrs Best 10 yds 1  10 yds 2  40yrs  ...  BJ 2 BP Max BP 1  BP 2  \\\n",
      "0         1.61     1.64      1.61   4.78  ...  2.65  110.0  110   NaN   \n",
      "1          NaN      NaN       NaN    NaN  ...   NaN  115.0  115   NaN   \n",
      "2         1.48     1.59      1.48   4.53  ...  2.74   85.0  NaN  85.0   \n",
      "3         1.43     1.49      1.43   4.47  ...  2.84    NaN  NaN   NaN   \n",
      "4         1.48     1.56      1.48   4.80  ...  2.57   95.0   90  95.0   \n",
      "\n",
      "  Clean Best Clean 1  Clean 2 Squat Best Squat 1  Squat 2  \n",
      "0      110.0     110      NaN        NaN     NaN      NaN  \n",
      "1        NaN     NaN      NaN        NaN     NaN      NaN  \n",
      "2      100.0      90    100.0      140.0     130      140  \n",
      "3      120.0     115    120.0      160.0     150      160  \n",
      "4      100.0      90    100.0      140.0     130      140  \n",
      "\n",
      "[5 rows x 28 columns]\n"
     ]
    }
   ],
   "source": [
    "import pandas as pd\n",
    "\n",
    "# Leer el archivo rawData.xlsx\n",
    "df = pd.read_excel('rawData.xlsx')\n",
    "\n",
    "# Mostrar los primeros 5 renglones\n",
    "print(df.head())"
   ]
  },
  {
   "cell_type": "code",
   "execution_count": 6,
   "metadata": {},
   "outputs": [
    {
     "name": "stdout",
     "output_type": "stream",
     "text": [
      "   Matrícula                        Name Pos      Fecha  BP Max  Clean Best  \\\n",
      "0  A01367061      Adrian Briseño Ramones  CB 2024-03-21   110.0       110.0   \n",
      "1  A01749027  Brandon Omar Rocha Cabrera  CB 2024-03-21   115.0         NaN   \n",
      "2  A01795311   Emmanuel Gallegos Montiel  CB 2024-03-21    85.0       100.0   \n",
      "3  A01658336   Gabriel Encalada Gallardo  CB 2024-03-21     NaN       120.0   \n",
      "4  A01659588            Jorge Luna Rueda  CB 2024-03-21    95.0       100.0   \n",
      "\n",
      "   Squat Best  \n",
      "0         NaN  \n",
      "1         NaN  \n",
      "2       140.0  \n",
      "3       160.0  \n",
      "4       140.0  \n"
     ]
    }
   ],
   "source": [
    "# Crear una nueva tabla con las columnas especificadas\n",
    "df_filtered = df[['Matrícula','Name', 'Pos', 'Fecha', 'BP Max', 'Clean Best', 'Squat Best']]\n",
    "\n",
    "# Mostrar los primeros 5 registros de la nueva tabla\n",
    "print(df_filtered.head())"
   ]
  },
  {
   "cell_type": "code",
   "execution_count": 9,
   "metadata": {},
   "outputs": [
    {
     "name": "stdout",
     "output_type": "stream",
     "text": [
      "    Matrícula                            Name  BP Max  Clean Best  Squat Best\n",
      "0   A01662436  Aarón Ixbalanqué Jiménez Ramos    90.0         NaN         NaN\n",
      "1   A01367061          Adrian Briseño Ramones   110.0       110.0       155.0\n",
      "7   A01752279              Adán Avila Esparza   100.0       110.0       140.0\n",
      "12  A01338818               Alan Centeno Mena   140.0       110.0       170.0\n",
      "18  A01351312          Alejandro Milan Marin      NaN         NaN         NaN\n"
     ]
    },
    {
     "name": "stderr",
     "output_type": "stream",
     "text": [
      "/tmp/ipykernel_27748/2692717155.py:2: SettingWithCopyWarning: \n",
      "A value is trying to be set on a copy of a slice from a DataFrame.\n",
      "Try using .loc[row_indexer,col_indexer] = value instead\n",
      "\n",
      "See the caveats in the documentation: https://pandas.pydata.org/pandas-docs/stable/user_guide/indexing.html#returning-a-view-versus-a-copy\n",
      "  df_filtered['Fecha'] = pd.to_datetime(df_filtered['Fecha']).dt.date\n"
     ]
    }
   ],
   "source": [
    "# Asegurarse de que la columna Fecha esté en formato de fecha\n",
    "df_filtered['Fecha'] = pd.to_datetime(df_filtered['Fecha']).dt.date\n",
    "\n",
    "# Crear un nuevo DataFrame con los valores máximos de BP Max, Clean Best y Squat Best por cada Name\n",
    "df_max_values = df_filtered.groupby('Name').agg({'BP Max': 'max', 'Clean Best': 'max', 'Squat Best': 'max'}).reset_index()\n",
    "\n",
    "# Merge df_max_values con df_filtered para obtener la columna Matrícula\n",
    "df_max_values = df_max_values.merge(df_filtered[['Name', 'Matrícula']], on='Name', how='left').drop_duplicates()\n",
    "\n",
    "# Reorder columns to have Matrícula at the beginning\n",
    "cols = ['Matrícula'] + [col for col in df_max_values if col != 'Matrícula']\n",
    "df_max_values = df_max_values[cols]\n",
    "\n",
    "# Mostrar los primeros 5 resultados\n",
    "print(df_max_values.head())"
   ]
  },
  {
   "cell_type": "code",
   "execution_count": 10,
   "metadata": {},
   "outputs": [
    {
     "name": "stdout",
     "output_type": "stream",
     "text": [
      "    Matrícula                            Name  BP Max  Clean Best  Squat Best  \\\n",
      "0   A01662436  Aarón Ixbalanqué Jiménez Ramos    90.0         NaN         NaN   \n",
      "1   A01367061          Adrian Briseño Ramones   110.0       110.0       155.0   \n",
      "7   A01752279              Adán Avila Esparza   100.0       110.0       140.0   \n",
      "12  A01338818               Alan Centeno Mena   140.0       110.0       170.0   \n",
      "18  A01351312          Alejandro Milan Marin      NaN         NaN         NaN   \n",
      "\n",
      "    BP Max 60%  Clean Best 60%  Squat Best 60%  \n",
      "0         54.0             NaN             NaN  \n",
      "1         66.0            66.0            93.0  \n",
      "7         60.0            66.0            84.0  \n",
      "12        84.0            66.0           102.0  \n",
      "18         NaN             NaN             NaN  \n"
     ]
    }
   ],
   "source": [
    "df_max_values['BP Max 60%'] = df_max_values['BP Max'] * 0.6\n",
    "df_max_values['Clean Best 60%'] = df_max_values['Clean Best'] * 0.6\n",
    "df_max_values['Squat Best 60%'] = df_max_values['Squat Best'] * 0.6\n",
    "\n",
    "# Mostrar los primeros 5 resultados\n",
    "print(df_max_values.head())"
   ]
  },
  {
   "cell_type": "code",
   "execution_count": null,
   "metadata": {},
   "outputs": [],
   "source": []
  },
  {
   "cell_type": "code",
   "execution_count": 11,
   "metadata": {},
   "outputs": [],
   "source": [
    "df_max_values.to_excel('listaMaximos.xlsx', index=False)"
   ]
  }
 ],
 "metadata": {
  "kernelspec": {
   "display_name": "Python 3",
   "language": "python",
   "name": "python3"
  },
  "language_info": {
   "codemirror_mode": {
    "name": "ipython",
    "version": 3
   },
   "file_extension": ".py",
   "mimetype": "text/x-python",
   "name": "python",
   "nbconvert_exporter": "python",
   "pygments_lexer": "ipython3",
   "version": "3.12.1"
  }
 },
 "nbformat": 4,
 "nbformat_minor": 2
}
