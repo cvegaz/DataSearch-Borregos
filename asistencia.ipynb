{
 "cells": [
  {
   "cell_type": "code",
   "execution_count": null,
   "metadata": {},
   "outputs": [],
   "source": [
    "import pandas as pd\n",
    "\n",
    "# Leer el archivo febrero.xls y mostrar la pestaña \"Registro asistencia\"\n",
    "file_path = 'febrero.xls'\n",
    "df_asis = pd.read_excel(file_path, sheet_name='Registro asistencia')\n",
    "df_asis = df_asis.drop([0, 1]).reset_index(drop=True)\n",
    "row_elim = df_asis.iloc[0]\n",
    "# Filtrar el DataFrame para eliminar los renglones iguales al renglón 2, excepto el propio renglón 2\n",
    "df_asis_filtered = df_asis.drop(df_asis[df_asis.apply(lambda row: row.equals(row_elim), axis=1)].index[1:])\n",
    "\n",
    "df_asis_filtered.loc[df_asis_filtered['Registro asistencia'].notna(), 'Unnamed: 1'] = df_asis_filtered['Unnamed: 2']\n",
    "df_asis_filtered.loc[df_asis_filtered['Registro asistencia'].notna(), 'Unnamed: 2'] = df_asis_filtered['Unnamed: 9']\n",
    "df_asis_filtered.loc[df_asis_filtered['Registro asistencia'].notna(), 'Unnamed: 3'] = df_asis_filtered['Unnamed: 17']\n",
    "id_rows = df_asis_filtered[df_asis_filtered['Registro asistencia'] == 'ID :']\n",
    "# Eliminar los valores de las columnas de la 4 en adelante para esos renglones\n",
    "df_asis_filtered.loc[id_rows.index, df_asis_filtered.columns[4:]] = None\n",
    "# Identificar los renglones que están vacíos en su primera columna\n",
    "empty_rows = df_asis_filtered[df_asis_filtered['Registro asistencia'].isna()]\n",
    "# Modificar los valores en las siguientes columnas por una \"x\"\n",
    "for index in empty_rows.index:\n",
    "    df_asis_filtered.loc[index, df_asis_filtered.columns[1:]] = df_asis_filtered.loc[index, df_asis_filtered.columns[1:]].apply(lambda x: 'x' if pd.notna(x) else x)\n",
    "df_asis_filtered['total'] = df_asis_filtered.apply(lambda row: row.astype(str).str.count('x').sum(), axis=1)\n",
    "df_asis_filtered['total'] = df_asis_filtered['total'].replace(0, '')\n",
    "# Mostrar el DataFrame\n",
    "#print(df_asis_filtered.head(10))\n",
    "df_asis_filtered.to_excel('listaFebrero.xlsx', index=False)"
   ]
  }
 ],
 "metadata": {
  "kernelspec": {
   "display_name": "Python 3",
   "language": "python",
   "name": "python3"
  },
  "language_info": {
   "codemirror_mode": {
    "name": "ipython",
    "version": 3
   },
   "file_extension": ".py",
   "mimetype": "text/x-python",
   "name": "python",
   "nbconvert_exporter": "python",
   "pygments_lexer": "ipython3",
   "version": "3.12.1"
  }
 },
 "nbformat": 4,
 "nbformat_minor": 2
}
